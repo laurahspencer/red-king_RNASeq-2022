{
 "cells": [
  {
   "cell_type": "markdown",
   "metadata": {},
   "source": [
    "Project: Gene expression analysis of gill tissue from red king crab (_Paralithodes camtschaticus_) reared in varying pH conditions\n",
    "\n",
    "In this first notebook I will record the steps taken to process RNASeq files from raw data to trimmed/filtered data that is ready for alignment. All steps will be conducted on Sedna, the high computing node. Locations of files, code, and scripts will be documented in this notebook.  \n",
    "\n",
    "## Step 1:  Concatenate sequence data from same individual that was collected in different lanes\n",
    "\n",
    "There are 43 libraries/individual crab, which were each run in 7 lanes (each crab is identified by its Tank # and Crab #).  Therefore, sequencing data (paired reads) for the same crab was delivered to us from Univ. of Oregon in 7 separate files.  Giles concatenated the data by Tank#/Crab# using the following script: \n",
    "\n",
    "Script location on Sedna: \n",
    "biodata/ggoetz/nichols/201910-redking_crab-rnaseq/scripts/concat_fastq_files.sh\n",
    "\n",
    "```\n",
    "#!/bin/bash\n",
    "\n",
    "BASE=/home/ggoetz/rairay/nichols/201910-redking_crab-rnaseq\n",
    "\n",
    "IN=${BASE}/raw\n",
    "OUT=${BASE}/concat\n",
    "\n",
    "FOLDERS=$(ls -1d ${IN}/3* | awk -F \"/\" '{ print $NF }')\n",
    "\n",
    "for folder in ${FOLDERS}\n",
    "do\n",
    "    echo ${folder}\n",
    "    SUB_FOLDER=${IN}/${folder}\n",
    "    SAMPLES=$(ls ${SUB_FOLDER}/3*_R1_*.fastq.gz | \\\n",
    "        awk -F \"/\" '{ print $NF }' | \\\n",
    "        awk -F \"_\" '{ print \"Tank_\"$3\"_Crab_\"$5 }')\n",
    "\n",
    "    for sample in ${SAMPLES}\n",
    "    do\n",
    "        echo ${sample}\n",
    "        zcat ${SUB_FOLDER}/${folder}_${sample}_*_R1_*.fastq.gz \\\n",
    "            >> ${OUT}/${sample}_R1.fastq\n",
    "        zcat ${SUB_FOLDER}/${folder}_${sample}_*_R2_*.fastq.gz \\\n",
    "            >> ${OUT}/${sample}_R2.fastq\n",
    "    done\n",
    "done\n",
    "```\n",
    "\n",
    "He then "
   ]
  }
 ],
 "metadata": {
  "kernelspec": {
   "display_name": "Python 3",
   "language": "python",
   "name": "python3"
  },
  "language_info": {
   "codemirror_mode": {
    "name": "ipython",
    "version": 3
   },
   "file_extension": ".py",
   "mimetype": "text/x-python",
   "name": "python",
   "nbconvert_exporter": "python",
   "pygments_lexer": "ipython3",
   "version": "3.6.5"
  }
 },
 "nbformat": 4,
 "nbformat_minor": 2
}

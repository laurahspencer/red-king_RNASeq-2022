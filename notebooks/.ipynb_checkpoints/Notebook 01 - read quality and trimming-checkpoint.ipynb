{
 "cells": [
  {
   "cell_type": "markdown",
   "metadata": {},
   "source": [
    "Project: Gene expression analysis of gill tissue from red king crab (_Paralithodes camtschaticus_) reared in varying pH conditions\n",
    "\n",
    "In this first notebook I will record the steps taken to process RNASeq files from raw data to trimmed/filtered data that is ready for alignment. All steps will be conducted on Sedna, the high computing node. Locations of files, code, and scripts will be documented in this notebook.  \n",
    "\n",
    "## Step 1:  Concatenate sequence data from same individual that was collected in different lanes\n",
    "\n",
    "There are 43 libraries (from individual crab), which were each run in 7 lanes (each crab is identified by its Tank # and Crab #).  Therefore, sequencing data (paired reads) for the same crab was delivered to us from Univ. of Oregon in 7 separate files.  Giles concatenated the data by Tank#/Crab# using the following script: [concat_fastq_files.sh](https://raw.githubusercontent.com/laurahspencer/red-king_RNASeq-2022/main/scripts/concat_fastq_files.sh). Script location on Sedna: 'biodata/ggoetz/nichols/201910-redking_crab-rnaseq/scripts/concat_fastq_files.sh'\n",
    "\n",
    "He then compressed the concatenated files using this script:  [compress_concat_files.sh](https://raw.githubusercontent.com/laurahspencer/red-king_RNASeq-2022/main/scripts/compress_concat_files.sh). Script location on Sedna: 'biodata/ggoetz/nichols/201910-redking_crab-rnaseq/scripts/compress_concat_files.sh'\n",
    "\n",
    "He copied the concatenated/compressed data over to a new directory on Sedna, which is where I will retrieve the data for further processing: `share/nwfsc/ggoetz/red_king_crab/illumina/`\n",
    "\n",
    "Here is a list of the concatenated sequence files: \n",
    "\n",
    "```\n",
    "Tank_10_Crab_1_R1.fastq.gz  Tank_15_Crab_3_R1.fastq.gz  Tank_20_Crab_2_R1.fastq.gz  Tank_5_Crab_1_R1.fastq.gz\n",
    "Tank_10_Crab_1_R2.fastq.gz  Tank_15_Crab_3_R2.fastq.gz  Tank_20_Crab_2_R2.fastq.gz  Tank_5_Crab_1_R2.fastq.gz\n",
    "Tank_10_Crab_2_R1.fastq.gz  Tank_16_Crab_1_R1.fastq.gz  Tank_20_Crab_3_R1.fastq.gz  Tank_5_Crab_2_R1.fastq.gz\n",
    "Tank_10_Crab_2_R2.fastq.gz  Tank_16_Crab_1_R2.fastq.gz  Tank_20_Crab_3_R2.fastq.gz  Tank_5_Crab_2_R2.fastq.gz\n",
    "Tank_10_Crab_3_R1.fastq.gz  Tank_16_Crab_2_R1.fastq.gz  Tank_2_Crab_1_R1.fastq.gz   Tank_5_Crab_3_R1.fastq.gz\n",
    "Tank_10_Crab_3_R2.fastq.gz  Tank_16_Crab_2_R2.fastq.gz  Tank_2_Crab_1_R2.fastq.gz   Tank_5_Crab_3_R2.fastq.gz\n",
    "Tank_11_Crab_1_R1.fastq.gz  Tank_16_Crab_4_R1.fastq.gz  Tank_2_Crab_2_R1.fastq.gz   Tank_7_Crab_1_R1.fastq.gz\n",
    "Tank_11_Crab_1_R2.fastq.gz  Tank_16_Crab_4_R2.fastq.gz  Tank_2_Crab_2_R2.fastq.gz   Tank_7_Crab_1_R2.fastq.gz\n",
    "Tank_11_Crab_2_R1.fastq.gz  Tank_18_Crab_1_R1.fastq.gz  Tank_2_Crab_3_R1.fastq.gz   Tank_7_Crab_3_R1.fastq.gz\n",
    "Tank_11_Crab_2_R2.fastq.gz  Tank_18_Crab_1_R2.fastq.gz  Tank_2_Crab_3_R2.fastq.gz   Tank_7_Crab_3_R2.fastq.gz\n",
    "Tank_11_Crab_3_R1.fastq.gz  Tank_18_Crab_2_R1.fastq.gz  Tank_3_Crab_1_R1.fastq.gz   Tank_7_Crab_4_R1.fastq.gz\n",
    "Tank_11_Crab_3_R2.fastq.gz  Tank_18_Crab_2_R2.fastq.gz  Tank_3_Crab_1_R2.fastq.gz   Tank_7_Crab_4_R2.fastq.gz\n",
    "Tank_13_Crab_1_R1.fastq.gz  Tank_18_Crab_3_R1.fastq.gz  Tank_3_Crab_2_R1.fastq.gz   Tank_9_Crab_1_R1.fastq.gz\n",
    "Tank_13_Crab_1_R2.fastq.gz  Tank_18_Crab_3_R2.fastq.gz  Tank_3_Crab_2_R2.fastq.gz   Tank_9_Crab_1_R2.fastq.gz\n",
    "Tank_13_Crab_2_R1.fastq.gz  Tank_1_Crab_1_R1.fastq.gz   Tank_3_Crab_3_R1.fastq.gz   Tank_9_Crab_2_R1.fastq.gz\n",
    "Tank_13_Crab_2_R2.fastq.gz  Tank_1_Crab_1_R2.fastq.gz   Tank_3_Crab_3_R2.fastq.gz   Tank_9_Crab_2_R2.fastq.gz\n",
    "Tank_13_Crab_3_R1.fastq.gz  Tank_1_Crab_2_R1.fastq.gz   Tank_4_Crab_1_R1.fastq.gz   Tank_9_Crab_3_R1.fastq.gz\n",
    "Tank_13_Crab_3_R2.fastq.gz  Tank_1_Crab_2_R2.fastq.gz   Tank_4_Crab_1_R2.fastq.gz   Tank_9_Crab_3_R2.fastq.gz\n",
    "Tank_15_Crab_1_R1.fastq.gz  Tank_1_Crab_3_R1.fastq.gz   Tank_4_Crab_2_R1.fastq.gz   Tank_9_Crab_4_R1.fastq.gz\n",
    "Tank_15_Crab_1_R2.fastq.gz  Tank_1_Crab_3_R2.fastq.gz   Tank_4_Crab_2_R2.fastq.gz   Tank_9_Crab_4_R2.fastq.gz\n",
    "Tank_15_Crab_2_R1.fastq.gz  Tank_20_Crab_1_R1.fastq.gz  Tank_4_Crab_3_R1.fastq.gz\n",
    "Tank_15_Crab_2_R2.fastq.gz  Tank_20_Crab_1_R2.fastq.gz  Tank_4_Crab_3_R2.fastq.gz\n",
    "```"
   ]
  },
  {
   "cell_type": "markdown",
   "metadata": {},
   "source": [
    "## Step 2: Assess quality of raw reads using FastQC/MultiQC\n",
    "\n"
   ]
  },
  {
   "cell_type": "code",
   "execution_count": null,
   "metadata": {},
   "outputs": [],
   "source": []
  },
  {
   "cell_type": "code",
   "execution_count": null,
   "metadata": {},
   "outputs": [],
   "source": []
  }
 ],
 "metadata": {
  "kernelspec": {
   "display_name": "Python 3",
   "language": "python",
   "name": "python3"
  },
  "language_info": {
   "codemirror_mode": {
    "name": "ipython",
    "version": 3
   },
   "file_extension": ".py",
   "mimetype": "text/x-python",
   "name": "python",
   "nbconvert_exporter": "python",
   "pygments_lexer": "ipython3",
   "version": "3.6.5"
  }
 },
 "nbformat": 4,
 "nbformat_minor": 2
}

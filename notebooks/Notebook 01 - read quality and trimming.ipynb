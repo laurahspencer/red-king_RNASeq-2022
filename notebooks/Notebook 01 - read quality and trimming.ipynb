{
 "cells": [
  {
   "cell_type": "markdown",
   "metadata": {},
   "source": [
    "Project: Gene expression analysis of gill tissue from red king crab (_Paralithodes camtschaticus_) reared in varying pH conditions\n",
    "\n",
    "In this first notebook I will record the steps taken to process RNASeq files from raw data to trimmed/filtered data that is ready for alignment. All steps will be conducted on Sedna, the high computing node. Locations of files, code, and scripts will be documented in this notebook.  \n",
    "\n",
    "## Step 1:  Concatenate sequence data from same individual that was collected in different lanes\n",
    "\n",
    "There are 43 libraries (from individual crab), which were each run in 7 lanes (each crab is identified by its Tank # and Crab #).  Therefore, sequencing data (paired reads) for the same crab was delivered to us from Univ. of Oregon in 7 separate files.  Giles concatenated the data by Tank#/Crab# using the following script: [concat_fastq_files.sh](https://raw.githubusercontent.com/laurahspencer/red-king_RNASeq-2022/main/scripts/concat_fastq_files.sh). Script location on Sedna: 'biodata/ggoetz/nichols/201910-redking_crab-rnaseq/scripts/concat_fastq_files.sh'\n",
    "\n",
    "He then compressed the concatenated files using this script:  [compress_concat_files.sh](https://raw.githubusercontent.com/laurahspencer/red-king_RNASeq-2022/main/scripts/compress_concat_files.sh). Script location on Sedna: 'biodata/ggoetz/nichols/201910-redking_crab-rnaseq/scripts/compress_concat_files.sh'\n",
    "\n",
    "He copied the concatenated/compressed data over to a new directory on Sedna, which is where I will retrieve the data for further processing: `share/nwfsc/ggoetz/red_king_crab/illumina/`\n",
    "\n",
    "Here is a list of the concatenated sequence files: \n",
    "\n",
    "```\n",
    "Tank_10_Crab_1_R1.fastq.gz  Tank_15_Crab_3_R1.fastq.gz  Tank_20_Crab_2_R1.fastq.gz  Tank_5_Crab_1_R1.fastq.gz\n",
    "Tank_10_Crab_1_R2.fastq.gz  Tank_15_Crab_3_R2.fastq.gz  Tank_20_Crab_2_R2.fastq.gz  Tank_5_Crab_1_R2.fastq.gz\n",
    "Tank_10_Crab_2_R1.fastq.gz  Tank_16_Crab_1_R1.fastq.gz  Tank_20_Crab_3_R1.fastq.gz  Tank_5_Crab_2_R1.fastq.gz\n",
    "Tank_10_Crab_2_R2.fastq.gz  Tank_16_Crab_1_R2.fastq.gz  Tank_20_Crab_3_R2.fastq.gz  Tank_5_Crab_2_R2.fastq.gz\n",
    "Tank_10_Crab_3_R1.fastq.gz  Tank_16_Crab_2_R1.fastq.gz  Tank_2_Crab_1_R1.fastq.gz   Tank_5_Crab_3_R1.fastq.gz\n",
    "Tank_10_Crab_3_R2.fastq.gz  Tank_16_Crab_2_R2.fastq.gz  Tank_2_Crab_1_R2.fastq.gz   Tank_5_Crab_3_R2.fastq.gz\n",
    "Tank_11_Crab_1_R1.fastq.gz  Tank_16_Crab_4_R1.fastq.gz  Tank_2_Crab_2_R1.fastq.gz   Tank_7_Crab_1_R1.fastq.gz\n",
    "Tank_11_Crab_1_R2.fastq.gz  Tank_16_Crab_4_R2.fastq.gz  Tank_2_Crab_2_R2.fastq.gz   Tank_7_Crab_1_R2.fastq.gz\n",
    "Tank_11_Crab_2_R1.fastq.gz  Tank_18_Crab_1_R1.fastq.gz  Tank_2_Crab_3_R1.fastq.gz   Tank_7_Crab_3_R1.fastq.gz\n",
    "Tank_11_Crab_2_R2.fastq.gz  Tank_18_Crab_1_R2.fastq.gz  Tank_2_Crab_3_R2.fastq.gz   Tank_7_Crab_3_R2.fastq.gz\n",
    "Tank_11_Crab_3_R1.fastq.gz  Tank_18_Crab_2_R1.fastq.gz  Tank_3_Crab_1_R1.fastq.gz   Tank_7_Crab_4_R1.fastq.gz\n",
    "Tank_11_Crab_3_R2.fastq.gz  Tank_18_Crab_2_R2.fastq.gz  Tank_3_Crab_1_R2.fastq.gz   Tank_7_Crab_4_R2.fastq.gz\n",
    "Tank_13_Crab_1_R1.fastq.gz  Tank_18_Crab_3_R1.fastq.gz  Tank_3_Crab_2_R1.fastq.gz   Tank_9_Crab_1_R1.fastq.gz\n",
    "Tank_13_Crab_1_R2.fastq.gz  Tank_18_Crab_3_R2.fastq.gz  Tank_3_Crab_2_R2.fastq.gz   Tank_9_Crab_1_R2.fastq.gz\n",
    "Tank_13_Crab_2_R1.fastq.gz  Tank_1_Crab_1_R1.fastq.gz   Tank_3_Crab_3_R1.fastq.gz   Tank_9_Crab_2_R1.fastq.gz\n",
    "Tank_13_Crab_2_R2.fastq.gz  Tank_1_Crab_1_R2.fastq.gz   Tank_3_Crab_3_R2.fastq.gz   Tank_9_Crab_2_R2.fastq.gz\n",
    "Tank_13_Crab_3_R1.fastq.gz  Tank_1_Crab_2_R1.fastq.gz   Tank_4_Crab_1_R1.fastq.gz   Tank_9_Crab_3_R1.fastq.gz\n",
    "Tank_13_Crab_3_R2.fastq.gz  Tank_1_Crab_2_R2.fastq.gz   Tank_4_Crab_1_R2.fastq.gz   Tank_9_Crab_3_R2.fastq.gz\n",
    "Tank_15_Crab_1_R1.fastq.gz  Tank_1_Crab_3_R1.fastq.gz   Tank_4_Crab_2_R1.fastq.gz   Tank_9_Crab_4_R1.fastq.gz\n",
    "Tank_15_Crab_1_R2.fastq.gz  Tank_1_Crab_3_R2.fastq.gz   Tank_4_Crab_2_R2.fastq.gz   Tank_9_Crab_4_R2.fastq.gz\n",
    "Tank_15_Crab_2_R1.fastq.gz  Tank_20_Crab_1_R1.fastq.gz  Tank_4_Crab_3_R1.fastq.gz\n",
    "Tank_15_Crab_2_R2.fastq.gz  Tank_20_Crab_1_R2.fastq.gz  Tank_4_Crab_3_R2.fastq.gz\n",
    "```"
   ]
  },
  {
   "cell_type": "markdown",
   "metadata": {},
   "source": [
    "## Step 2: Assess quality of raw reads using FastQC/MultiQC\n",
    "\n"
   ]
  },
  {
   "cell_type": "markdown",
   "metadata": {},
   "source": [
    "I wrote a slurm script to run `fastqc` and `multiqc` on all the raw (but concatenated) RNASeq data - [2021-12-13_fastqc-concat.sh](https://raw.githubusercontent.com/laurahspencer/red-king_RNASeq-2022/main/scripts/2021-12-13_fastqc-concat.sh)\n",
    "\n",
    "I tried to rsync from my local computer to Sedna using the below command, but `rsync` isn't installed on Cygwin yet. (NOTE: the below rsync code hasn't yet been tested). \n",
    "\n",
    "`rsync --archive --progess --verbose --relative 2021-12-13_fastqc-concat.sh lspencer@sedna.nwfsc2.noaa.gov:/home/lspencer/2022-redking-OA/fastqc`\n",
    "\n",
    "So, instead I created the script directly on Sedna using `touch 2021-12-13_fastqc-concat.sh` then opened the file using `nano 2021-12-13_fastqc-concat.sh`, and pasted contents from my clipboard using keys Shift+Insert. \n",
    "\n",
    "I executed the fastqc slurm script via `sbatch 2021-12-13_fastqc-concat.sh`\n",
    "\n",
    "NOTE: to increase fastqc speed I added the argument `--thread 8` and set the number of CPUs to 8 in the SLURM header. "
   ]
  },
  {
   "cell_type": "code",
   "execution_count": null,
   "metadata": {},
   "outputs": [],
   "source": []
  }
 ],
 "metadata": {
  "kernelspec": {
   "display_name": "Python 3",
   "language": "python",
   "name": "python3"
  },
  "language_info": {
   "codemirror_mode": {
    "name": "ipython",
    "version": 3
   },
   "file_extension": ".py",
   "mimetype": "text/x-python",
   "name": "python",
   "nbconvert_exporter": "python",
   "pygments_lexer": "ipython3",
   "version": "3.6.5"
  }
 },
 "nbformat": 4,
 "nbformat_minor": 2
}
